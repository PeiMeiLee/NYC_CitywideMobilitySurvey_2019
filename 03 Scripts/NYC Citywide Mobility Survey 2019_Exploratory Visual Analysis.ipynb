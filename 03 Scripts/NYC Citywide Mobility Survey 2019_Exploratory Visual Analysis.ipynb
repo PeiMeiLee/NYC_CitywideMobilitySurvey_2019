{
 "cells": [
  {
   "cell_type": "markdown",
   "id": "bab74601",
   "metadata": {},
   "source": [
    "# New York City Citywide Mobility Survey 2019\n",
    "# Exploratory Visual Analysis"
   ]
  },
  {
   "cell_type": "markdown",
   "id": "ddc392e6",
   "metadata": {},
   "source": [
    "### This script contains the following:\n",
    "\n",
    "#### 1. Importing libraries and data\n",
    "#### 2. Merge data frames\n",
    "#### 3. Exploring relationships"
   ]
  },
  {
   "cell_type": "markdown",
   "id": "fa24e5a1",
   "metadata": {},
   "source": [
    "## Import libraries"
   ]
  },
  {
   "cell_type": "code",
   "execution_count": 17,
   "id": "6e7b37c3",
   "metadata": {},
   "outputs": [],
   "source": [
    "import pandas as pd\n",
    "import numpy as np\n",
    "import seaborn as sns\n",
    "import matplotlib.pyplot as plt\n",
    "import matplotlib\n",
    "import os"
   ]
  },
  {
   "cell_type": "code",
   "execution_count": 18,
   "id": "5502cb01",
   "metadata": {},
   "outputs": [
    {
     "data": {
      "text/plain": [
       "'3.7.1'"
      ]
     },
     "execution_count": 18,
     "metadata": {},
     "output_type": "execute_result"
    }
   ],
   "source": [
    "# Check the version of matplotlib library\n",
    "matplotlib.__version__"
   ]
  },
  {
   "cell_type": "code",
   "execution_count": 19,
   "id": "b79669a4",
   "metadata": {},
   "outputs": [],
   "source": [
    "# This option ensures the charts you create are displayed in the notebook without the need to \"call\" them specifically.\n",
    "\n",
    "%matplotlib inline"
   ]
  },
  {
   "cell_type": "markdown",
   "id": "238d5af3",
   "metadata": {},
   "source": [
    "## Import dataframe \"Trips\""
   ]
  },
  {
   "cell_type": "code",
   "execution_count": 20,
   "id": "ad8ea4af",
   "metadata": {
    "scrolled": false
   },
   "outputs": [
    {
     "data": {
      "text/html": [
       "<div>\n",
       "<style scoped>\n",
       "    .dataframe tbody tr th:only-of-type {\n",
       "        vertical-align: middle;\n",
       "    }\n",
       "\n",
       "    .dataframe tbody tr th {\n",
       "        vertical-align: top;\n",
       "    }\n",
       "\n",
       "    .dataframe thead th {\n",
       "        text-align: right;\n",
       "    }\n",
       "</style>\n",
       "<table border=\"1\" class=\"dataframe\">\n",
       "  <thead>\n",
       "    <tr style=\"text-align: right;\">\n",
       "      <th></th>\n",
       "      <th>hh_id</th>\n",
       "      <th>trip_weight</th>\n",
       "      <th>home_cms_zone</th>\n",
       "      <th>survey_mode</th>\n",
       "      <th>person_id</th>\n",
       "      <th>day_num</th>\n",
       "      <th>travel_date</th>\n",
       "      <th>travel_date_dow</th>\n",
       "      <th>trip_id</th>\n",
       "      <th>trip_num</th>\n",
       "      <th>...</th>\n",
       "      <th>long_distance_flag</th>\n",
       "      <th>invalid_purpose_flag</th>\n",
       "      <th>o_purpose_imputed</th>\n",
       "      <th>d_purpose_imputed</th>\n",
       "      <th>o_purpose_category_imputed</th>\n",
       "      <th>d_purpose_category_imputed</th>\n",
       "      <th>o_location_type_imputed</th>\n",
       "      <th>d_location_type_imputed</th>\n",
       "      <th>o_congestion</th>\n",
       "      <th>d_congestion</th>\n",
       "    </tr>\n",
       "  </thead>\n",
       "  <tbody>\n",
       "    <tr>\n",
       "      <th>0</th>\n",
       "      <td>19000235</td>\n",
       "      <td>0.0</td>\n",
       "      <td>Northern Bronx</td>\n",
       "      <td>smartphone app</td>\n",
       "      <td>1900023501</td>\n",
       "      <td>1</td>\n",
       "      <td>2019-05-30</td>\n",
       "      <td>Thursday</td>\n",
       "      <td>1900023501001</td>\n",
       "      <td>1</td>\n",
       "      <td>...</td>\n",
       "      <td>0</td>\n",
       "      <td>0</td>\n",
       "      <td>-9,998</td>\n",
       "      <td>10</td>\n",
       "      <td>Missing: Non-response</td>\n",
       "      <td>Work</td>\n",
       "      <td>4</td>\n",
       "      <td>2</td>\n",
       "      <td>1</td>\n",
       "      <td>0</td>\n",
       "    </tr>\n",
       "    <tr>\n",
       "      <th>3</th>\n",
       "      <td>19000235</td>\n",
       "      <td>0.0</td>\n",
       "      <td>Northern Bronx</td>\n",
       "      <td>smartphone app</td>\n",
       "      <td>1900023501</td>\n",
       "      <td>3</td>\n",
       "      <td>2019-06-01</td>\n",
       "      <td>Saturday</td>\n",
       "      <td>1900023501004</td>\n",
       "      <td>4</td>\n",
       "      <td>...</td>\n",
       "      <td>0</td>\n",
       "      <td>0</td>\n",
       "      <td>10</td>\n",
       "      <td>1</td>\n",
       "      <td>Work</td>\n",
       "      <td>Home</td>\n",
       "      <td>2</td>\n",
       "      <td>1</td>\n",
       "      <td>0</td>\n",
       "      <td>0</td>\n",
       "    </tr>\n",
       "    <tr>\n",
       "      <th>12</th>\n",
       "      <td>19000235</td>\n",
       "      <td>0.0</td>\n",
       "      <td>Northern Bronx</td>\n",
       "      <td>smartphone app</td>\n",
       "      <td>1900023501</td>\n",
       "      <td>4</td>\n",
       "      <td>2019-06-02</td>\n",
       "      <td>Sunday</td>\n",
       "      <td>1900023501013</td>\n",
       "      <td>13</td>\n",
       "      <td>...</td>\n",
       "      <td>0</td>\n",
       "      <td>0</td>\n",
       "      <td>-9,998</td>\n",
       "      <td>50</td>\n",
       "      <td>Missing: Non-response</td>\n",
       "      <td>Meal</td>\n",
       "      <td>4</td>\n",
       "      <td>4</td>\n",
       "      <td>0</td>\n",
       "      <td>0</td>\n",
       "    </tr>\n",
       "    <tr>\n",
       "      <th>13</th>\n",
       "      <td>19000235</td>\n",
       "      <td>0.0</td>\n",
       "      <td>Northern Bronx</td>\n",
       "      <td>smartphone app</td>\n",
       "      <td>1900023501</td>\n",
       "      <td>4</td>\n",
       "      <td>2019-06-02</td>\n",
       "      <td>Sunday</td>\n",
       "      <td>1900023501014</td>\n",
       "      <td>14</td>\n",
       "      <td>...</td>\n",
       "      <td>0</td>\n",
       "      <td>0</td>\n",
       "      <td>50</td>\n",
       "      <td>50</td>\n",
       "      <td>Meal</td>\n",
       "      <td>Meal</td>\n",
       "      <td>4</td>\n",
       "      <td>4</td>\n",
       "      <td>0</td>\n",
       "      <td>0</td>\n",
       "    </tr>\n",
       "    <tr>\n",
       "      <th>15</th>\n",
       "      <td>19000235</td>\n",
       "      <td>0.0</td>\n",
       "      <td>Northern Bronx</td>\n",
       "      <td>smartphone app</td>\n",
       "      <td>1900023501</td>\n",
       "      <td>5</td>\n",
       "      <td>2019-06-03</td>\n",
       "      <td>Monday</td>\n",
       "      <td>1900023501016</td>\n",
       "      <td>16</td>\n",
       "      <td>...</td>\n",
       "      <td>0</td>\n",
       "      <td>0</td>\n",
       "      <td>-9,998</td>\n",
       "      <td>50</td>\n",
       "      <td>Missing: Non-response</td>\n",
       "      <td>Meal</td>\n",
       "      <td>4</td>\n",
       "      <td>4</td>\n",
       "      <td>0</td>\n",
       "      <td>0</td>\n",
       "    </tr>\n",
       "  </tbody>\n",
       "</table>\n",
       "<p>5 rows × 38 columns</p>\n",
       "</div>"
      ],
      "text/plain": [
       "       hh_id  trip_weight   home_cms_zone     survey_mode   person_id  \\\n",
       "0   19000235          0.0  Northern Bronx  smartphone app  1900023501   \n",
       "3   19000235          0.0  Northern Bronx  smartphone app  1900023501   \n",
       "12  19000235          0.0  Northern Bronx  smartphone app  1900023501   \n",
       "13  19000235          0.0  Northern Bronx  smartphone app  1900023501   \n",
       "15  19000235          0.0  Northern Bronx  smartphone app  1900023501   \n",
       "\n",
       "    day_num travel_date travel_date_dow        trip_id  trip_num  ...  \\\n",
       "0         1  2019-05-30        Thursday  1900023501001         1  ...   \n",
       "3         3  2019-06-01        Saturday  1900023501004         4  ...   \n",
       "12        4  2019-06-02          Sunday  1900023501013        13  ...   \n",
       "13        4  2019-06-02          Sunday  1900023501014        14  ...   \n",
       "15        5  2019-06-03          Monday  1900023501016        16  ...   \n",
       "\n",
       "    long_distance_flag invalid_purpose_flag o_purpose_imputed  \\\n",
       "0                    0                    0            -9,998   \n",
       "3                    0                    0                10   \n",
       "12                   0                    0            -9,998   \n",
       "13                   0                    0                50   \n",
       "15                   0                    0            -9,998   \n",
       "\n",
       "   d_purpose_imputed o_purpose_category_imputed  d_purpose_category_imputed  \\\n",
       "0                 10      Missing: Non-response                        Work   \n",
       "3                  1                       Work                        Home   \n",
       "12                50      Missing: Non-response                        Meal   \n",
       "13                50                       Meal                        Meal   \n",
       "15                50      Missing: Non-response                        Meal   \n",
       "\n",
       "    o_location_type_imputed d_location_type_imputed o_congestion  d_congestion  \n",
       "0                         4                       2            1             0  \n",
       "3                         2                       1            0             0  \n",
       "12                        4                       4            0             0  \n",
       "13                        4                       4            0             0  \n",
       "15                        4                       4            0             0  \n",
       "\n",
       "[5 rows x 38 columns]"
      ]
     },
     "execution_count": 20,
     "metadata": {},
     "output_type": "execute_result"
    }
   ],
   "source": [
    "# Define path\n",
    "path = r'/Users/peimei/11-2023 New York City Citywide Mobility Survey 2019'\n",
    "\n",
    "# Join the path using 'os.path.join'\n",
    "file_path = os.path.join(path, '02 Data', 'Prepared Data', 'Citywide_Mobility_Survey_Trips_Clean.csv')\n",
    "\n",
    "# Read the CSV file into a DataFrame\n",
    "trips = pd.read_csv(file_path, index_col = [0],low_memory=False)\n",
    "\n",
    "# Display the first few rows of the DataFrame\n",
    "trips.head()"
   ]
  },
  {
   "cell_type": "code",
   "execution_count": 21,
   "id": "2b28435a",
   "metadata": {},
   "outputs": [
    {
     "data": {
      "text/plain": [
       "(74923, 38)"
      ]
     },
     "execution_count": 21,
     "metadata": {},
     "output_type": "execute_result"
    }
   ],
   "source": [
    "trips.shape"
   ]
  },
  {
   "cell_type": "markdown",
   "id": "f150f0e8",
   "metadata": {},
   "source": [
    "## Import dataframe 'Person'"
   ]
  },
  {
   "cell_type": "code",
   "execution_count": 22,
   "id": "853d2366",
   "metadata": {},
   "outputs": [],
   "source": [
    "# import dataframe 'Person'\n",
    "\n",
    "# Join the path using 'os.path.join'\n",
    "file_path = os.path.join(path, '02 Data', 'Original Data', 'Citywide_Mobility_Survey_-_Person_Survey_2019_20231108.csv')\n",
    "\n",
    "# Define list of variables to be imported\n",
    "vars_list = ['person_id','age', 'jobs_count', 'industry']\n",
    "\n",
    "# Read the CSV file into a DataFrame\n",
    "person = pd.read_csv(file_path, sep=\";\", index_col = False, low_memory=False, usecols = vars_list)"
   ]
  },
  {
   "cell_type": "code",
   "execution_count": 23,
   "id": "dbaa9702",
   "metadata": {
    "scrolled": false
   },
   "outputs": [
    {
     "name": "stdout",
     "output_type": "stream",
     "text": [
      "<class 'pandas.core.frame.DataFrame'>\n",
      "RangeIndex: 8286 entries, 0 to 8285\n",
      "Data columns (total 4 columns):\n",
      " #   Column      Non-Null Count  Dtype \n",
      "---  ------      --------------  ----- \n",
      " 0   person_id   8286 non-null   int64 \n",
      " 1   age         8286 non-null   int64 \n",
      " 2   jobs_count  8286 non-null   object\n",
      " 3   industry    8286 non-null   object\n",
      "dtypes: int64(2), object(2)\n",
      "memory usage: 259.1+ KB\n"
     ]
    }
   ],
   "source": [
    "person.info()"
   ]
  },
  {
   "cell_type": "code",
   "execution_count": 24,
   "id": "8a03e213",
   "metadata": {
    "scrolled": false
   },
   "outputs": [
    {
     "data": {
      "text/html": [
       "<div>\n",
       "<style scoped>\n",
       "    .dataframe tbody tr th:only-of-type {\n",
       "        vertical-align: middle;\n",
       "    }\n",
       "\n",
       "    .dataframe tbody tr th {\n",
       "        vertical-align: top;\n",
       "    }\n",
       "\n",
       "    .dataframe thead th {\n",
       "        text-align: right;\n",
       "    }\n",
       "</style>\n",
       "<table border=\"1\" class=\"dataframe\">\n",
       "  <thead>\n",
       "    <tr style=\"text-align: right;\">\n",
       "      <th></th>\n",
       "      <th>person_id</th>\n",
       "      <th>age</th>\n",
       "    </tr>\n",
       "  </thead>\n",
       "  <tbody>\n",
       "    <tr>\n",
       "      <th>count</th>\n",
       "      <td>8.286000e+03</td>\n",
       "      <td>8286.000000</td>\n",
       "    </tr>\n",
       "    <tr>\n",
       "      <th>mean</th>\n",
       "      <td>2.468398e+09</td>\n",
       "      <td>5.718561</td>\n",
       "    </tr>\n",
       "    <tr>\n",
       "      <th>std</th>\n",
       "      <td>2.974500e+09</td>\n",
       "      <td>2.402113</td>\n",
       "    </tr>\n",
       "    <tr>\n",
       "      <th>min</th>\n",
       "      <td>1.900024e+09</td>\n",
       "      <td>1.000000</td>\n",
       "    </tr>\n",
       "    <tr>\n",
       "      <th>25%</th>\n",
       "      <td>1.926343e+09</td>\n",
       "      <td>4.000000</td>\n",
       "    </tr>\n",
       "    <tr>\n",
       "      <th>50%</th>\n",
       "      <td>1.951784e+09</td>\n",
       "      <td>6.000000</td>\n",
       "    </tr>\n",
       "    <tr>\n",
       "      <th>75%</th>\n",
       "      <td>1.979496e+09</td>\n",
       "      <td>8.000000</td>\n",
       "    </tr>\n",
       "    <tr>\n",
       "      <th>max</th>\n",
       "      <td>1.999892e+10</td>\n",
       "      <td>11.000000</td>\n",
       "    </tr>\n",
       "  </tbody>\n",
       "</table>\n",
       "</div>"
      ],
      "text/plain": [
       "          person_id          age\n",
       "count  8.286000e+03  8286.000000\n",
       "mean   2.468398e+09     5.718561\n",
       "std    2.974500e+09     2.402113\n",
       "min    1.900024e+09     1.000000\n",
       "25%    1.926343e+09     4.000000\n",
       "50%    1.951784e+09     6.000000\n",
       "75%    1.979496e+09     8.000000\n",
       "max    1.999892e+10    11.000000"
      ]
     },
     "execution_count": 24,
     "metadata": {},
     "output_type": "execute_result"
    }
   ],
   "source": [
    "person.describe()"
   ]
  },
  {
   "cell_type": "markdown",
   "id": "4d24e76a",
   "metadata": {},
   "source": [
    "## Merge df \"Trips\" and df \"Person\""
   ]
  },
  {
   "cell_type": "code",
   "execution_count": 25,
   "id": "37b4258d",
   "metadata": {},
   "outputs": [
    {
     "data": {
      "text/plain": [
       "(74923, 41)"
      ]
     },
     "execution_count": 25,
     "metadata": {},
     "output_type": "execute_result"
    }
   ],
   "source": [
    "# Merge dataframes\n",
    "\n",
    "trips_person = trips.merge(person, on = 'person_id', how = 'left')\n",
    "trips_person.shape"
   ]
  },
  {
   "cell_type": "code",
   "execution_count": 26,
   "id": "6a7b0f94",
   "metadata": {
    "scrolled": true
   },
   "outputs": [
    {
     "name": "stdout",
     "output_type": "stream",
     "text": [
      "<class 'pandas.core.frame.DataFrame'>\n",
      "Int64Index: 74923 entries, 0 to 74922\n",
      "Data columns (total 41 columns):\n",
      " #   Column                      Non-Null Count  Dtype  \n",
      "---  ------                      --------------  -----  \n",
      " 0   hh_id                       74923 non-null  int64  \n",
      " 1   trip_weight                 74923 non-null  float64\n",
      " 2   home_cms_zone               74923 non-null  object \n",
      " 3   survey_mode                 74923 non-null  object \n",
      " 4   person_id                   74923 non-null  int64  \n",
      " 5   day_num                     74923 non-null  int64  \n",
      " 6   travel_date                 74923 non-null  object \n",
      " 7   travel_date_dow             74923 non-null  object \n",
      " 8   trip_id                     74923 non-null  int64  \n",
      " 9   trip_num                    74923 non-null  int64  \n",
      " 10  leg_num                     74923 non-null  int64  \n",
      " 11  depart_date                 74923 non-null  object \n",
      " 12  arrive_date                 74923 non-null  object \n",
      " 13  o_cms_zone                  69696 non-null  object \n",
      " 14  d_cms_zone                  69616 non-null  object \n",
      " 15  trip_duration_min           74923 non-null  float64\n",
      " 16  trip_distance_mile          74923 non-null  float64\n",
      " 17  mode_type                   74923 non-null  object \n",
      " 18  mode_type_detailed          74923 non-null  object \n",
      " 19  sustainable_mode            74923 non-null  int64  \n",
      " 20  mode_1                      74923 non-null  int64  \n",
      " 21  mode_2                      74923 non-null  int64  \n",
      " 22  mode_3                      74923 non-null  int64  \n",
      " 23  mode_4                      74923 non-null  int64  \n",
      " 24  used_transit                74923 non-null  int64  \n",
      " 25  transit_access              74923 non-null  int64  \n",
      " 26  transit_egress              74923 non-null  int64  \n",
      " 27  high_speed_flag             74923 non-null  int64  \n",
      " 28  long_distance_flag          74923 non-null  int64  \n",
      " 29  invalid_purpose_flag        74923 non-null  int64  \n",
      " 30  o_purpose_imputed           74923 non-null  object \n",
      " 31  d_purpose_imputed           74923 non-null  int64  \n",
      " 32  o_purpose_category_imputed  74923 non-null  object \n",
      " 33  d_purpose_category_imputed  74923 non-null  object \n",
      " 34  o_location_type_imputed     74923 non-null  int64  \n",
      " 35  d_location_type_imputed     74923 non-null  int64  \n",
      " 36  o_congestion                74923 non-null  int64  \n",
      " 37  d_congestion                74923 non-null  int64  \n",
      " 38  age                         74923 non-null  int64  \n",
      " 39  jobs_count                  74923 non-null  object \n",
      " 40  industry                    74923 non-null  object \n",
      "dtypes: float64(3), int64(23), object(15)\n",
      "memory usage: 24.0+ MB\n"
     ]
    }
   ],
   "source": [
    "# Check output\n",
    "\n",
    "trips_person.info()"
   ]
  },
  {
   "cell_type": "code",
   "execution_count": 27,
   "id": "8a59b7f8",
   "metadata": {},
   "outputs": [],
   "source": [
    "# Imputation for column 'industry'\n",
    "\n",
    "# Define a mapping of numerical values to corresponding texts\n",
    "industry_mapping = {\n",
    "    '-9,998': 'Missing: Non-response',\n",
    "    '1': 'Financial services',\n",
    "    '2': 'Real estate',\n",
    "    '3': 'Capital goods (aerospace & defense, electrical, machinery)',\n",
    "    '4': 'Professional and business services (consulting, legal, marketing)',\n",
    "    '5': 'Hospitality',\n",
    "    '6': 'Energy (oil, gas, and coal)',\n",
    "    '7': 'Education',\n",
    "    '8': 'Health care/social assistance',\n",
    "    '9': 'Arts and entertainment',\n",
    "    '10': 'Retail',\n",
    "    '11': 'Manufacturing',\n",
    "    '12': 'Transportation and utilities',\n",
    "    '13': 'Construction',\n",
    "    '14': 'Government',\n",
    "    '15': 'Non-profit',\n",
    "    '16': 'Technology and telecommunications',\n",
    "    '17': 'Media',\n",
    "    '18': 'Other',\n",
    "    '995': 'Missing: Skip logic'\n",
    "}\n",
    "\n",
    "# Replace numerical values with corresponding texts\n",
    "trips_person['industry'] = trips_person['industry'].replace(industry_mapping)"
   ]
  },
  {
   "cell_type": "code",
   "execution_count": 28,
   "id": "83035c56",
   "metadata": {},
   "outputs": [
    {
     "data": {
      "text/plain": [
       "Missing: Skip logic                                                  14423\n",
       "Health care/social assistance                                         8392\n",
       "Education                                                             7324\n",
       "Other                                                                 6440\n",
       "Professional and business services (consulting, legal, marketing)     5768\n",
       "Financial services                                                    5336\n",
       "Government                                                            4175\n",
       "Transportation and utilities                                          3368\n",
       "Technology and telecommunications                                     3221\n",
       "Retail                                                                3052\n",
       "Arts and entertainment                                                2959\n",
       "Non-profit                                                            2821\n",
       "Hospitality                                                           1900\n",
       "Media                                                                 1607\n",
       "Real estate                                                           1580\n",
       "Construction                                                          1160\n",
       "Manufacturing                                                          702\n",
       "Energy (oil, gas, and coal)                                            349\n",
       "Missing: Non-response                                                  231\n",
       "Capital goods (aerospace & defense, electrical, machinery)             115\n",
       "Name: industry, dtype: int64"
      ]
     },
     "execution_count": 28,
     "metadata": {},
     "output_type": "execute_result"
    }
   ],
   "source": [
    "trips_person['industry'].value_counts(dropna = False)"
   ]
  },
  {
   "cell_type": "markdown",
   "id": "b54f07b6",
   "metadata": {},
   "source": [
    "# Exploratory Visual Analysis"
   ]
  },
  {
   "cell_type": "markdown",
   "id": "0ac7fb72",
   "metadata": {},
   "source": [
    "## Create a correlation heatmap using seaborn"
   ]
  },
  {
   "cell_type": "code",
   "execution_count": 29,
   "id": "99300a1b",
   "metadata": {},
   "outputs": [],
   "source": [
    "# Convert data type of 'jobs_count' \n",
    "\n",
    "trips_person['jobs_count'] = trips_person['jobs_count'].str.replace(',', '').astype('int64')"
   ]
  },
  {
   "cell_type": "code",
   "execution_count": 30,
   "id": "e993b17e",
   "metadata": {},
   "outputs": [],
   "source": [
    "# Save a subset\n",
    "\n",
    "sub = trips_person[['age','jobs_count','trip_duration_min','trip_distance_mile']]"
   ]
  },
  {
   "cell_type": "code",
   "execution_count": 35,
   "id": "cb71c4ca",
   "metadata": {
    "scrolled": true
   },
   "outputs": [
    {
     "data": {
      "image/png": "[encoded data removed]",
      "text/plain": [
       "<Figure size 1000x1000 with 2 Axes>"
      ]
     },
     "metadata": {},
     "output_type": "display_data"
    }
   ],
   "source": [
    "# Create a subplot with matplotlib\n",
    "f,ax = plt.subplots(figsize=(10,10))\n",
    "\n",
    "# Create the correlation heatmap in seaborn by applying a heatmap onto the correlation matrix and the subplots defined above.\n",
    "corr = sns.heatmap(sub.corr(), annot = True, ax = ax) # The `annot` argument allows the plot to place the correlation coefficients onto the heatmap.\n",
    "\n",
    "# Save the figure\n",
    "plt.savefig(os.path.join(path, '04 Analysis', 'Visualizations', 'correlation_heatmap.png'))"
   ]
  },
  {
   "cell_type": "markdown",
   "id": "5ead86b3",
   "metadata": {},
   "source": [
    "0: no relationship <br/>\n",
    "0.1–0.3: weak relationship <br/>\n",
    "0.3–0.5: moderate relationship <br/>\n",
    "0.5–1.0: strong relationship"
   ]
  },
  {
   "cell_type": "markdown",
   "id": "4f42fe0c",
   "metadata": {},
   "source": [
    "### Task: Discuss what the coefficients in the plot mean in terms of the relationships between the variables."
   ]
  },
  {
   "cell_type": "markdown",
   "id": "9f42921d",
   "metadata": {},
   "source": [
    "### Answer: \n",
    "#### The coefficients reflect how strong the relatioship between any given two variables is. In the heatmap above, the highest value is 0.31 betweeen the trip distance and trip duration, which indicates a week-moderate correlation. All the rest are close to zero."
   ]
  },
  {
   "cell_type": "markdown",
   "id": "70785adb",
   "metadata": {},
   "source": [
    "## Create a scatterplot for \"trip_distance_mile\" and \"trip_duration_min\""
   ]
  },
  {
   "cell_type": "code",
   "execution_count": null,
   "id": "f64e4e4d",
   "metadata": {
    "scrolled": false
   },
   "outputs": [],
   "source": [
    "# Create a scatterplot in seaborn\n",
    "sns.lmplot(x = 'trip_distance_mile', y = 'trip_duration_min', data = trips_person)\n",
    "\n",
    "# Set x-axis ticks\n",
    "plt.xticks(range(0, int(trips_person['trip_distance_mile'].max()) + 1, 100))\n",
    "\n",
    "# Set y-axis ticks\n",
    "plt.yticks(range(0, int(trips_person['trip_duration_min'].max()) + 1, 100))\n",
    "\n",
    "# Show the plot\n",
    "plt.show()"
   ]
  },
  {
   "cell_type": "markdown",
   "id": "fd2f34e1",
   "metadata": {},
   "source": [
    "### A closer look at lower left corner of scatterplot"
   ]
  },
  {
   "cell_type": "code",
   "execution_count": null,
   "id": "908944e8",
   "metadata": {},
   "outputs": [],
   "source": [
    "# Create a scatterplot in seaborn\n",
    "sns.lmplot(x='trip_distance_mile', y='trip_duration_min', data=trips_person)\n",
    "\n",
    "# Set x-axis and y-axis limits\n",
    "plt.xlim(0, 100)\n",
    "plt.ylim(0, 100)\n",
    "\n",
    "# Set x-axis ticks\n",
    "plt.xticks(range(0, 101, 20))\n",
    "\n",
    "# Set y-axis ticks\n",
    "plt.yticks(range(0, 101, 20))\n",
    "\n",
    "# Show the plot\n",
    "plt.show()\n"
   ]
  },
  {
   "cell_type": "markdown",
   "id": "01791b03",
   "metadata": {},
   "source": [
    "### Task: Discuss the output in a markdown cell."
   ]
  },
  {
   "cell_type": "markdown",
   "id": "06255d70",
   "metadata": {},
   "source": [
    "### Answer:  \n",
    "#### Apart from knowing these two variables are weakly correlated, we can see the data points are scattered over a large range on both the x and y-axes and especially on the y-axis. This suggests there’s a great degree of variability."
   ]
  },
  {
   "cell_type": "markdown",
   "id": "35453214",
   "metadata": {},
   "source": [
    "## Create a pair plot"
   ]
  },
  {
   "cell_type": "code",
   "execution_count": null,
   "id": "73fb9570",
   "metadata": {
    "scrolled": true
   },
   "outputs": [],
   "source": [
    "sub['jobs_count'].value_counts(dropna = False)"
   ]
  },
  {
   "cell_type": "code",
   "execution_count": null,
   "id": "69386aa9",
   "metadata": {},
   "outputs": [],
   "source": [
    "# Remove rows with the code 995 and code -9998 in column 'jobs_count'\n",
    "sub = sub[(sub['jobs_count'] != 995) & (sub['jobs_count'] != -9998)]"
   ]
  },
  {
   "cell_type": "code",
   "execution_count": null,
   "id": "34463845",
   "metadata": {
    "scrolled": true
   },
   "outputs": [],
   "source": [
    "sub['jobs_count'].value_counts(dropna = False)"
   ]
  },
  {
   "cell_type": "code",
   "execution_count": null,
   "id": "0e0d5b83",
   "metadata": {},
   "outputs": [],
   "source": [
    "# Create a pair plot \n",
    "\n",
    "g1 = sns.pairplot(sub)"
   ]
  },
  {
   "cell_type": "markdown",
   "id": "cc94e00b",
   "metadata": {},
   "source": [
    "### Task: Comment on the distribution of the variables and mark variables you’d like to explore further with an explanation of why."
   ]
  },
  {
   "cell_type": "markdown",
   "id": "0b8167bc",
   "metadata": {},
   "source": [
    "### Answer:\n",
    "#### I would like to explore the relationship between age, trip duration and trip distance. Because there seems to be some degree of negative correlation between age and trip duration as well as age and trip distance respectively. "
   ]
  },
  {
   "cell_type": "markdown",
   "id": "8dce1cac",
   "metadata": {},
   "source": [
    "## Create a categorical plot"
   ]
  },
  {
   "cell_type": "code",
   "execution_count": null,
   "id": "917a03e4",
   "metadata": {
    "scrolled": false
   },
   "outputs": [],
   "source": [
    "# Create a histogram\n",
    "sns.histplot(trips_person['trip_distance_mile'], bins = 10, kde = True)"
   ]
  },
  {
   "cell_type": "code",
   "execution_count": null,
   "id": "2d174f14",
   "metadata": {},
   "outputs": [],
   "source": [
    "# Zoom in on the histogram (x = 100, y = 45000)\n",
    "\n",
    "# Adjust the number of bins\n",
    "sns.histplot(trips_person['trip_distance_mile'], bins=1000, kde=True)\n",
    "\n",
    "# Limit x-axis and y-axis values\n",
    "plt.xlim(0, 100)  \n",
    "plt.ylim(0, 45000)  \n",
    "\n",
    "# Set y-tick values \n",
    "plt.yticks(range(0, 45001, 5000))\n",
    "\n",
    "# Set labels and title\n",
    "plt.xlabel('Trip Distance (Miles)')\n",
    "plt.ylabel('Frequency')\n",
    "plt.title('Distribution of Trip Distances')\n",
    "\n",
    "# Show the plot\n",
    "plt.show()"
   ]
  },
  {
   "cell_type": "code",
   "execution_count": null,
   "id": "c1933019",
   "metadata": {
    "scrolled": false
   },
   "outputs": [],
   "source": [
    "# Zoom in further on the histogram (x = 30, y = 45000)\n",
    "\n",
    "# Adjust the number of bins\n",
    "sns.histplot(trips_person['trip_distance_mile'], bins=1000, kde=True)\n",
    "\n",
    "# Set labels and title\n",
    "plt.xlabel('Trip Distance (Miles)')\n",
    "plt.ylabel('Frequency')\n",
    "plt.title('Distribution of Trip Distances')\n",
    "\n",
    "# Limit x-axis and y-axis values\n",
    "plt.xlim(0, 30)  \n",
    "plt.ylim(0, 45000)  \n",
    "\n",
    "# Set y-tick values \n",
    "plt.yticks(range(0, 45001, 5000))\n",
    "\n",
    "# Show the plot\n",
    "plt.show()\n"
   ]
  },
  {
   "cell_type": "code",
   "execution_count": null,
   "id": "5996d7d2",
   "metadata": {},
   "outputs": [],
   "source": [
    "# Create distance categories\n",
    "trips_person.loc[trips_person['trip_distance_mile'] <= 1, 'distance_category'] = 'within 1 mile'"
   ]
  },
  {
   "cell_type": "code",
   "execution_count": null,
   "id": "aa827362",
   "metadata": {},
   "outputs": [],
   "source": [
    "trips_person.loc[(trips_person['trip_distance_mile'] > 1) & (trips_person['trip_distance_mile'] <= 3), 'distance_category'] = '1-3 miles'"
   ]
  },
  {
   "cell_type": "code",
   "execution_count": null,
   "id": "d822c94b",
   "metadata": {},
   "outputs": [],
   "source": [
    "trips_person.loc[trips_person['trip_distance_mile'] > 3, 'distance_category'] = '>3 miles'"
   ]
  },
  {
   "cell_type": "code",
   "execution_count": null,
   "id": "f8b1dce2",
   "metadata": {
    "scrolled": true
   },
   "outputs": [],
   "source": [
    "trips_person['distance_category'].value_counts(dropna = False)"
   ]
  },
  {
   "cell_type": "code",
   "execution_count": null,
   "id": "d5aa60da",
   "metadata": {},
   "outputs": [],
   "source": [
    "# Imputation for column 'age'\n",
    "# Define a mapping of numerical values to corresponding texts for 'age'\n",
    "age_mapping = {\n",
    "    -9998: 'Missing: Non-response',\n",
    "    1: 'Under 5',\n",
    "    2: '5-15',\n",
    "    3: '16-17',\n",
    "    4: '18-24',\n",
    "    5: '25-34',\n",
    "    6: '35-44',\n",
    "    7: '45-54',\n",
    "    8: '55-64',\n",
    "    9: '65-74',\n",
    "    10: '75-84',\n",
    "    11: '85 or older',\n",
    "    995: 'Missing: Skip logic'\n",
    "}\n",
    "\n",
    "# Assuming 'age' column contains integers\n",
    "trips_person['age'] = trips_person['age'].replace(age_mapping)"
   ]
  },
  {
   "cell_type": "code",
   "execution_count": null,
   "id": "d52724d6",
   "metadata": {
    "scrolled": true
   },
   "outputs": [],
   "source": [
    "trips_person['age'].value_counts(dropna = False)"
   ]
  },
  {
   "cell_type": "code",
   "execution_count": null,
   "id": "7425f0d9",
   "metadata": {
    "scrolled": true
   },
   "outputs": [],
   "source": [
    "# Create a categorical plot in seaborn using the price categories created above\n",
    "\n",
    "# Specify the desired order of x-values\n",
    "age_order = ['18-24', '25-34', '35-44', '45-54', '55-64', '65-74', '75-84', '85 or older']\n",
    "\n",
    "sns.set(style=\"ticks\")\n",
    "g2 = sns.catplot(x='age', y='trip_distance_mile', hue=\"distance_category\", data=trips_person,order=age_order, height=4, aspect=2)\n",
    "plt.ylim(0, 30)  # Set y-axis limit "
   ]
  },
  {
   "cell_type": "code",
   "execution_count": null,
   "id": "192f5665",
   "metadata": {},
   "outputs": [],
   "source": [
    "# Export viz\n",
    "g2.savefig(os.path.join(path, '04 Analysis','Visualizations', 'catplot_age_trip-distance.png'))"
   ]
  },
  {
   "cell_type": "markdown",
   "id": "6bd4f9f5",
   "metadata": {},
   "source": [
    "### Task: Interpret the results."
   ]
  },
  {
   "cell_type": "markdown",
   "id": "229884df",
   "metadata": {},
   "source": [
    "### Answer: \n",
    "1. This catplot shows us the distribution of trip distance per survey participant age. In the distance category of \">3 miles\", we see that the cluster density of data points increases from the age group 18-24 for two further age groups and then decreases from the age group 45-54 and onward. \n",
    "2. The age group \"85 or older\" exhibits the smallest number of data points, with a notable scarcity of instances extending beyond 10 miles in trip distance."
   ]
  },
  {
   "cell_type": "code",
   "execution_count": null,
   "id": "03700a53",
   "metadata": {},
   "outputs": [],
   "source": [
    "# Export trips_person as csv\n",
    "\n",
    "trips_person.to_csv(os.path.join(path, '02 Data','Prepared Data', 'Citywide_Mobility_Survey_Trips_Person.csv'))"
   ]
  },
  {
   "cell_type": "code",
   "execution_count": null,
   "id": "ad10a19a",
   "metadata": {},
   "outputs": [],
   "source": [
    "trips_person.shape"
   ]
  },
  {
   "cell_type": "code",
   "execution_count": null,
   "id": "a7a310e7",
   "metadata": {},
   "outputs": [],
   "source": []
  }
 ],
 "metadata": {
  "kernelspec": {
   "display_name": "Python 3 (ipykernel)",
   "language": "python",
   "name": "python3"
  },
  "language_info": {
   "codemirror_mode": {
    "name": "ipython",
    "version": 3
   },
   "file_extension": ".py",
   "mimetype": "text/x-python",
   "name": "python",
   "nbconvert_exporter": "python",
   "pygments_lexer": "ipython3",
   "version": "3.11.4"
  }
 },
 "nbformat": 4,
 "nbformat_minor": 5
}
