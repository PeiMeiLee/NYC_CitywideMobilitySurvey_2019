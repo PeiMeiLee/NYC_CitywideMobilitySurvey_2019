{
 "cells": [
  {
   "cell_type": "markdown",
   "id": "fc456847",
   "metadata": {},
   "source": [
    "# New York City Citywide Mobility Survey 2019\n",
    "# Regression Analysis"
   ]
  },
  {
   "cell_type": "markdown",
   "id": "f56451a1",
   "metadata": {},
   "source": [
    "### This script contains the following:\n",
    "\n",
    "#### 1. Importing libraries and data\n",
    "#### 2. Data cleaning\n",
    "#### 3. Data prep for regression analysis\n",
    "#### 4. Regression analysis"
   ]
  },
  {
   "cell_type": "markdown",
   "id": "e542bae7",
   "metadata": {},
   "source": [
    "### 1. Importing libraries and data"
   ]
  },
  {
   "cell_type": "code",
   "execution_count": 99,
   "id": "14fb6f5d",
   "metadata": {},
   "outputs": [],
   "source": [
    "import pandas as pd\n",
    "import numpy as np\n",
    "import seaborn as sns\n",
    "import matplotlib\n",
    "import matplotlib.pyplot as plt\n",
    "import os\n",
    "import sklearn\n",
    "from sklearn.model_selection import train_test_split \n",
    "from sklearn.linear_model import LinearRegression\n",
    "from sklearn.metrics import mean_squared_error, r2_score"
   ]
  },
  {
   "cell_type": "code",
   "execution_count": 100,
   "id": "9191afa8",
   "metadata": {},
   "outputs": [],
   "source": [
    "# This option ensures that the graphs I create are displayed within the notebook without the need to \"call\" them specifically.\n",
    "\n",
    "%matplotlib inline"
   ]
  },
  {
   "cell_type": "code",
   "execution_count": 101,
   "id": "51b802db",
   "metadata": {
    "scrolled": true
   },
   "outputs": [],
   "source": [
    "# Define path\n",
    "path = r'/Users/peimei/11-2023 New York City Citywide Mobility Survey 2019'\n",
    "\n",
    "# Join the path using 'os.path.join'\n",
    "file_path = os.path.join(path, '02 Data', 'Prepared Data', 'Citywide_Mobility_Survey_Trips_Person_Vehicle.csv')\n",
    "\n",
    "# Read the CSV file into a DataFrame\n",
    "trips_person_vehicle = pd.read_csv(file_path,index_col = [0],low_memory=False)"
   ]
  },
  {
   "cell_type": "code",
   "execution_count": 102,
   "id": "bae3c09a",
   "metadata": {},
   "outputs": [
    {
     "data": {
      "text/html": [
       "<div>\n",
       "<style scoped>\n",
       "    .dataframe tbody tr th:only-of-type {\n",
       "        vertical-align: middle;\n",
       "    }\n",
       "\n",
       "    .dataframe tbody tr th {\n",
       "        vertical-align: top;\n",
       "    }\n",
       "\n",
       "    .dataframe thead th {\n",
       "        text-align: right;\n",
       "    }\n",
       "</style>\n",
       "<table border=\"1\" class=\"dataframe\">\n",
       "  <thead>\n",
       "    <tr style=\"text-align: right;\">\n",
       "      <th></th>\n",
       "      <th>hh_id</th>\n",
       "      <th>trip_weight</th>\n",
       "      <th>home_cms_zone</th>\n",
       "      <th>survey_mode</th>\n",
       "      <th>person_id</th>\n",
       "      <th>day_num</th>\n",
       "      <th>travel_date</th>\n",
       "      <th>travel_date_dow</th>\n",
       "      <th>trip_id</th>\n",
       "      <th>trip_num</th>\n",
       "      <th>...</th>\n",
       "      <th>d_purpose_category_imputed</th>\n",
       "      <th>o_location_type_imputed</th>\n",
       "      <th>d_location_type_imputed</th>\n",
       "      <th>o_congestion</th>\n",
       "      <th>d_congestion</th>\n",
       "      <th>age</th>\n",
       "      <th>jobs_count</th>\n",
       "      <th>industry</th>\n",
       "      <th>distance_category</th>\n",
       "      <th>vehicle_num</th>\n",
       "    </tr>\n",
       "  </thead>\n",
       "  <tbody>\n",
       "    <tr>\n",
       "      <th>0</th>\n",
       "      <td>19000235</td>\n",
       "      <td>0.0</td>\n",
       "      <td>Northern Bronx</td>\n",
       "      <td>smartphone app</td>\n",
       "      <td>1900023501</td>\n",
       "      <td>1</td>\n",
       "      <td>2019-05-30</td>\n",
       "      <td>Thursday</td>\n",
       "      <td>1900023501001</td>\n",
       "      <td>1</td>\n",
       "      <td>...</td>\n",
       "      <td>Work</td>\n",
       "      <td>4</td>\n",
       "      <td>2</td>\n",
       "      <td>1</td>\n",
       "      <td>0</td>\n",
       "      <td>35-44</td>\n",
       "      <td>1</td>\n",
       "      <td>Financial services</td>\n",
       "      <td>&gt;3 miles</td>\n",
       "      <td>2.0</td>\n",
       "    </tr>\n",
       "    <tr>\n",
       "      <th>1</th>\n",
       "      <td>19000235</td>\n",
       "      <td>0.0</td>\n",
       "      <td>Northern Bronx</td>\n",
       "      <td>smartphone app</td>\n",
       "      <td>1900023501</td>\n",
       "      <td>3</td>\n",
       "      <td>2019-06-01</td>\n",
       "      <td>Saturday</td>\n",
       "      <td>1900023501004</td>\n",
       "      <td>4</td>\n",
       "      <td>...</td>\n",
       "      <td>Home</td>\n",
       "      <td>2</td>\n",
       "      <td>1</td>\n",
       "      <td>0</td>\n",
       "      <td>0</td>\n",
       "      <td>35-44</td>\n",
       "      <td>1</td>\n",
       "      <td>Financial services</td>\n",
       "      <td>&gt;3 miles</td>\n",
       "      <td>2.0</td>\n",
       "    </tr>\n",
       "    <tr>\n",
       "      <th>2</th>\n",
       "      <td>19000235</td>\n",
       "      <td>0.0</td>\n",
       "      <td>Northern Bronx</td>\n",
       "      <td>smartphone app</td>\n",
       "      <td>1900023501</td>\n",
       "      <td>4</td>\n",
       "      <td>2019-06-02</td>\n",
       "      <td>Sunday</td>\n",
       "      <td>1900023501013</td>\n",
       "      <td>13</td>\n",
       "      <td>...</td>\n",
       "      <td>Meal</td>\n",
       "      <td>4</td>\n",
       "      <td>4</td>\n",
       "      <td>0</td>\n",
       "      <td>0</td>\n",
       "      <td>35-44</td>\n",
       "      <td>1</td>\n",
       "      <td>Financial services</td>\n",
       "      <td>&gt;3 miles</td>\n",
       "      <td>2.0</td>\n",
       "    </tr>\n",
       "    <tr>\n",
       "      <th>3</th>\n",
       "      <td>19000235</td>\n",
       "      <td>0.0</td>\n",
       "      <td>Northern Bronx</td>\n",
       "      <td>smartphone app</td>\n",
       "      <td>1900023501</td>\n",
       "      <td>4</td>\n",
       "      <td>2019-06-02</td>\n",
       "      <td>Sunday</td>\n",
       "      <td>1900023501014</td>\n",
       "      <td>14</td>\n",
       "      <td>...</td>\n",
       "      <td>Meal</td>\n",
       "      <td>4</td>\n",
       "      <td>4</td>\n",
       "      <td>0</td>\n",
       "      <td>0</td>\n",
       "      <td>35-44</td>\n",
       "      <td>1</td>\n",
       "      <td>Financial services</td>\n",
       "      <td>&gt;3 miles</td>\n",
       "      <td>2.0</td>\n",
       "    </tr>\n",
       "    <tr>\n",
       "      <th>4</th>\n",
       "      <td>19000235</td>\n",
       "      <td>0.0</td>\n",
       "      <td>Northern Bronx</td>\n",
       "      <td>smartphone app</td>\n",
       "      <td>1900023501</td>\n",
       "      <td>5</td>\n",
       "      <td>2019-06-03</td>\n",
       "      <td>Monday</td>\n",
       "      <td>1900023501016</td>\n",
       "      <td>16</td>\n",
       "      <td>...</td>\n",
       "      <td>Meal</td>\n",
       "      <td>4</td>\n",
       "      <td>4</td>\n",
       "      <td>0</td>\n",
       "      <td>0</td>\n",
       "      <td>35-44</td>\n",
       "      <td>1</td>\n",
       "      <td>Financial services</td>\n",
       "      <td>1-3 miles</td>\n",
       "      <td>2.0</td>\n",
       "    </tr>\n",
       "  </tbody>\n",
       "</table>\n",
       "<p>5 rows × 43 columns</p>\n",
       "</div>"
      ],
      "text/plain": [
       "      hh_id  trip_weight   home_cms_zone     survey_mode   person_id  day_num  \\\n",
       "0  19000235          0.0  Northern Bronx  smartphone app  1900023501        1   \n",
       "1  19000235          0.0  Northern Bronx  smartphone app  1900023501        3   \n",
       "2  19000235          0.0  Northern Bronx  smartphone app  1900023501        4   \n",
       "3  19000235          0.0  Northern Bronx  smartphone app  1900023501        4   \n",
       "4  19000235          0.0  Northern Bronx  smartphone app  1900023501        5   \n",
       "\n",
       "  travel_date travel_date_dow        trip_id  trip_num  ...  \\\n",
       "0  2019-05-30        Thursday  1900023501001         1  ...   \n",
       "1  2019-06-01        Saturday  1900023501004         4  ...   \n",
       "2  2019-06-02          Sunday  1900023501013        13  ...   \n",
       "3  2019-06-02          Sunday  1900023501014        14  ...   \n",
       "4  2019-06-03          Monday  1900023501016        16  ...   \n",
       "\n",
       "   d_purpose_category_imputed o_location_type_imputed d_location_type_imputed  \\\n",
       "0                        Work                       4                       2   \n",
       "1                        Home                       2                       1   \n",
       "2                        Meal                       4                       4   \n",
       "3                        Meal                       4                       4   \n",
       "4                        Meal                       4                       4   \n",
       "\n",
       "  o_congestion d_congestion    age  jobs_count            industry  \\\n",
       "0            1            0  35-44           1  Financial services   \n",
       "1            0            0  35-44           1  Financial services   \n",
       "2            0            0  35-44           1  Financial services   \n",
       "3            0            0  35-44           1  Financial services   \n",
       "4            0            0  35-44           1  Financial services   \n",
       "\n",
       "  distance_category  vehicle_num  \n",
       "0          >3 miles          2.0  \n",
       "1          >3 miles          2.0  \n",
       "2          >3 miles          2.0  \n",
       "3          >3 miles          2.0  \n",
       "4         1-3 miles          2.0  \n",
       "\n",
       "[5 rows x 43 columns]"
      ]
     },
     "execution_count": 102,
     "metadata": {},
     "output_type": "execute_result"
    }
   ],
   "source": [
    "# Display the first few rows of the DataFrame\n",
    "trips_person_vehicle.head()"
   ]
  },
  {
   "cell_type": "code",
   "execution_count": 103,
   "id": "67347b22",
   "metadata": {
    "scrolled": true
   },
   "outputs": [
    {
     "name": "stdout",
     "output_type": "stream",
     "text": [
      "<class 'pandas.core.frame.DataFrame'>\n",
      "Int64Index: 74923 entries, 0 to 74922\n",
      "Data columns (total 43 columns):\n",
      " #   Column                      Non-Null Count  Dtype  \n",
      "---  ------                      --------------  -----  \n",
      " 0   hh_id                       74923 non-null  int64  \n",
      " 1   trip_weight                 74923 non-null  float64\n",
      " 2   home_cms_zone               74923 non-null  object \n",
      " 3   survey_mode                 74923 non-null  object \n",
      " 4   person_id                   74923 non-null  int64  \n",
      " 5   day_num                     74923 non-null  int64  \n",
      " 6   travel_date                 74923 non-null  object \n",
      " 7   travel_date_dow             74923 non-null  object \n",
      " 8   trip_id                     74923 non-null  int64  \n",
      " 9   trip_num                    74923 non-null  int64  \n",
      " 10  leg_num                     74923 non-null  int64  \n",
      " 11  depart_date                 74923 non-null  object \n",
      " 12  arrive_date                 74923 non-null  object \n",
      " 13  o_cms_zone                  69696 non-null  object \n",
      " 14  d_cms_zone                  69616 non-null  object \n",
      " 15  trip_duration_min           74923 non-null  float64\n",
      " 16  trip_distance_mile          74923 non-null  float64\n",
      " 17  mode_type                   74923 non-null  object \n",
      " 18  mode_type_detailed          74923 non-null  object \n",
      " 19  sustainable_mode            74923 non-null  int64  \n",
      " 20  mode_1                      74923 non-null  int64  \n",
      " 21  mode_2                      74923 non-null  int64  \n",
      " 22  mode_3                      74923 non-null  int64  \n",
      " 23  mode_4                      74923 non-null  int64  \n",
      " 24  used_transit                74923 non-null  int64  \n",
      " 25  transit_access              74923 non-null  int64  \n",
      " 26  transit_egress              74923 non-null  int64  \n",
      " 27  high_speed_flag             74923 non-null  int64  \n",
      " 28  long_distance_flag          74923 non-null  int64  \n",
      " 29  invalid_purpose_flag        74923 non-null  int64  \n",
      " 30  o_purpose_imputed           74923 non-null  object \n",
      " 31  d_purpose_imputed           74923 non-null  int64  \n",
      " 32  o_purpose_category_imputed  74923 non-null  object \n",
      " 33  d_purpose_category_imputed  74923 non-null  object \n",
      " 34  o_location_type_imputed     74923 non-null  int64  \n",
      " 35  d_location_type_imputed     74923 non-null  int64  \n",
      " 36  o_congestion                74923 non-null  int64  \n",
      " 37  d_congestion                74923 non-null  int64  \n",
      " 38  age                         74923 non-null  object \n",
      " 39  jobs_count                  74923 non-null  int64  \n",
      " 40  industry                    74923 non-null  object \n",
      " 41  distance_category           74923 non-null  object \n",
      " 42  vehicle_num                 74923 non-null  float64\n",
      "dtypes: float64(4), int64(23), object(16)\n",
      "memory usage: 25.2+ MB\n"
     ]
    }
   ],
   "source": [
    "trips_person_vehicle.info()"
   ]
  },
  {
   "cell_type": "code",
   "execution_count": 104,
   "id": "70d3e3ac",
   "metadata": {},
   "outputs": [
    {
     "data": {
      "image/png": "[encoded data removed]",
      "text/plain": [
       "<Figure size 640x480 with 1 Axes>"
      ]
     },
     "metadata": {},
     "output_type": "display_data"
    }
   ],
   "source": [
    "# Create a scatterplot using matplotlib for another look at how the chosen variables plot against each other.\n",
    "\n",
    "trips_person_vehicle.plot(x = 'trip_distance_mile', y='trip_duration_min',style='o') # The style option creates a scatterplot; without it, we only have lines.\n",
    "plt.title('trip_distance vs trip_duration')  \n",
    "plt.xlabel('trip_distance_mile')  \n",
    "plt.ylabel('trip_duration_min')  \n",
    "plt.show()"
   ]
  },
  {
   "cell_type": "markdown",
   "id": "625f78fe",
   "metadata": {},
   "source": [
    "### My hypothesis: The longer the trip distance is, the longer the trip lasts in time."
   ]
  },
  {
   "cell_type": "markdown",
   "id": "b8b971fc",
   "metadata": {},
   "source": [
    "### 2. Data cleaning"
   ]
  },
  {
   "cell_type": "markdown",
   "id": "f8036234",
   "metadata": {},
   "source": [
    "Already done in the previous exercise."
   ]
  },
  {
   "cell_type": "markdown",
   "id": "bca244ba",
   "metadata": {},
   "source": [
    "### 3. Data prep for regression analysis"
   ]
  },
  {
   "cell_type": "code",
   "execution_count": 105,
   "id": "9f3d3f83",
   "metadata": {},
   "outputs": [],
   "source": [
    "# Reshape the variables into NumPy arrays and put them into separate objects.\n",
    "\n",
    "X = trips_person_vehicle['trip_distance_mile'].values.reshape(-1,1)\n",
    "y = trips_person_vehicle['trip_duration_min'].values.reshape(-1,1)"
   ]
  },
  {
   "cell_type": "code",
   "execution_count": 106,
   "id": "e298804c",
   "metadata": {},
   "outputs": [
    {
     "data": {
      "text/plain": [
       "array([[13.4],\n",
       "       [ 3.7],\n",
       "       [ 9.8],\n",
       "       ...,\n",
       "       [ 0.8],\n",
       "       [ 1.1],\n",
       "       [ 0.2]])"
      ]
     },
     "execution_count": 106,
     "metadata": {},
     "output_type": "execute_result"
    }
   ],
   "source": [
    "X"
   ]
  },
  {
   "cell_type": "code",
   "execution_count": 107,
   "id": "69aecf3b",
   "metadata": {},
   "outputs": [
    {
     "data": {
      "text/plain": [
       "array([[11.1],\n",
       "       [ 9.1],\n",
       "       [17.9],\n",
       "       ...,\n",
       "       [13.4],\n",
       "       [27.3],\n",
       "       [ 2.2]])"
      ]
     },
     "execution_count": 107,
     "metadata": {},
     "output_type": "execute_result"
    }
   ],
   "source": [
    "y"
   ]
  },
  {
   "cell_type": "code",
   "execution_count": 108,
   "id": "c145dbc6",
   "metadata": {},
   "outputs": [],
   "source": [
    "# Split data into a training set and a test set.\n",
    "\n",
    "X_train, X_test, y_train, y_test = train_test_split(X, y, test_size=0.3, random_state=0)"
   ]
  },
  {
   "cell_type": "markdown",
   "id": "5d65ff46",
   "metadata": {},
   "source": [
    "### 4. Regression analysis"
   ]
  },
  {
   "cell_type": "code",
   "execution_count": 109,
   "id": "cebd2c22",
   "metadata": {},
   "outputs": [],
   "source": [
    "# Create a regression object.\n",
    "\n",
    "regression = LinearRegression()  # This is the regression object, which will be fit onto the training set."
   ]
  },
  {
   "cell_type": "code",
   "execution_count": 110,
   "id": "c202351a",
   "metadata": {},
   "outputs": [
    {
     "data": {
      "text/html": [
       "<style>#sk-container-id-6 {color: black;}#sk-container-id-6 pre{padding: 0;}#sk-container-id-6 div.sk-toggleable {background-color: white;}#sk-container-id-6 label.sk-toggleable__label {cursor: pointer;display: block;width: 100%;margin-bottom: 0;padding: 0.3em;box-sizing: border-box;text-align: center;}#sk-container-id-6 label.sk-toggleable__label-arrow:before {content: \"▸\";float: left;margin-right: 0.25em;color: #696969;}#sk-container-id-6 label.sk-toggleable__label-arrow:hover:before {color: black;}#sk-container-id-6 div.sk-estimator:hover label.sk-toggleable__label-arrow:before {color: black;}#sk-container-id-6 div.sk-toggleable__content {max-height: 0;max-width: 0;overflow: hidden;text-align: left;background-color: #f0f8ff;}#sk-container-id-6 div.sk-toggleable__content pre {margin: 0.2em;color: black;border-radius: 0.25em;background-color: #f0f8ff;}#sk-container-id-6 input.sk-toggleable__control:checked~div.sk-toggleable__content {max-height: 200px;max-width: 100%;overflow: auto;}#sk-container-id-6 input.sk-toggleable__control:checked~label.sk-toggleable__label-arrow:before {content: \"▾\";}#sk-container-id-6 div.sk-estimator input.sk-toggleable__control:checked~label.sk-toggleable__label {background-color: #d4ebff;}#sk-container-id-6 div.sk-label input.sk-toggleable__control:checked~label.sk-toggleable__label {background-color: #d4ebff;}#sk-container-id-6 input.sk-hidden--visually {border: 0;clip: rect(1px 1px 1px 1px);clip: rect(1px, 1px, 1px, 1px);height: 1px;margin: -1px;overflow: hidden;padding: 0;position: absolute;width: 1px;}#sk-container-id-6 div.sk-estimator {font-family: monospace;background-color: #f0f8ff;border: 1px dotted black;border-radius: 0.25em;box-sizing: border-box;margin-bottom: 0.5em;}#sk-container-id-6 div.sk-estimator:hover {background-color: #d4ebff;}#sk-container-id-6 div.sk-parallel-item::after {content: \"\";width: 100%;border-bottom: 1px solid gray;flex-grow: 1;}#sk-container-id-6 div.sk-label:hover label.sk-toggleable__label {background-color: #d4ebff;}#sk-container-id-6 div.sk-serial::before {content: \"\";position: absolute;border-left: 1px solid gray;box-sizing: border-box;top: 0;bottom: 0;left: 50%;z-index: 0;}#sk-container-id-6 div.sk-serial {display: flex;flex-direction: column;align-items: center;background-color: white;padding-right: 0.2em;padding-left: 0.2em;position: relative;}#sk-container-id-6 div.sk-item {position: relative;z-index: 1;}#sk-container-id-6 div.sk-parallel {display: flex;align-items: stretch;justify-content: center;background-color: white;position: relative;}#sk-container-id-6 div.sk-item::before, #sk-container-id-6 div.sk-parallel-item::before {content: \"\";position: absolute;border-left: 1px solid gray;box-sizing: border-box;top: 0;bottom: 0;left: 50%;z-index: -1;}#sk-container-id-6 div.sk-parallel-item {display: flex;flex-direction: column;z-index: 1;position: relative;background-color: white;}#sk-container-id-6 div.sk-parallel-item:first-child::after {align-self: flex-end;width: 50%;}#sk-container-id-6 div.sk-parallel-item:last-child::after {align-self: flex-start;width: 50%;}#sk-container-id-6 div.sk-parallel-item:only-child::after {width: 0;}#sk-container-id-6 div.sk-dashed-wrapped {border: 1px dashed gray;margin: 0 0.4em 0.5em 0.4em;box-sizing: border-box;padding-bottom: 0.4em;background-color: white;}#sk-container-id-6 div.sk-label label {font-family: monospace;font-weight: bold;display: inline-block;line-height: 1.2em;}#sk-container-id-6 div.sk-label-container {text-align: center;}#sk-container-id-6 div.sk-container {/* jupyter's `normalize.less` sets `[hidden] { display: none; }` but bootstrap.min.css set `[hidden] { display: none !important; }` so we also need the `!important` here to be able to override the default hidden behavior on the sphinx rendered scikit-learn.org. See: https://github.com/scikit-learn/scikit-learn/issues/21755 */display: inline-block !important;position: relative;}#sk-container-id-6 div.sk-text-repr-fallback {display: none;}</style><div id=\"sk-container-id-6\" class=\"sk-top-container\"><div class=\"sk-text-repr-fallback\"><pre>LinearRegression()</pre><b>In a Jupyter environment, please rerun this cell to show the HTML representation or trust the notebook. <br />On GitHub, the HTML representation is unable to render, please try loading this page with nbviewer.org.</b></div><div class=\"sk-container\" hidden><div class=\"sk-item\"><div class=\"sk-estimator sk-toggleable\"><input class=\"sk-toggleable__control sk-hidden--visually\" id=\"sk-estimator-id-6\" type=\"checkbox\" checked><label for=\"sk-estimator-id-6\" class=\"sk-toggleable__label sk-toggleable__label-arrow\">LinearRegression</label><div class=\"sk-toggleable__content\"><pre>LinearRegression()</pre></div></div></div></div></div>"
      ],
      "text/plain": [
       "LinearRegression()"
      ]
     },
     "execution_count": 110,
     "metadata": {},
     "output_type": "execute_result"
    }
   ],
   "source": [
    "# Fit the regression object onto the training set.\n",
    "\n",
    "regression.fit(X_train, y_train)"
   ]
  },
  {
   "cell_type": "code",
   "execution_count": 111,
   "id": "383d703a",
   "metadata": {},
   "outputs": [],
   "source": [
    "# Predict the values of y using X.\n",
    "\n",
    "y_predicted = regression.predict(X_test)"
   ]
  },
  {
   "cell_type": "code",
   "execution_count": 112,
   "id": "6ef065c7",
   "metadata": {
    "scrolled": false
   },
   "outputs": [
    {
     "data": {
      "image/png": "[encoded data removed]",
      "text/plain": [
       "<Figure size 640x480 with 1 Axes>"
      ]
     },
     "metadata": {},
     "output_type": "display_data"
    }
   ],
   "source": [
    "# Create a plot that shows the regression line from the model on the test set.\n",
    "\n",
    "plot_test = plt\n",
    "plot_test.scatter(X_test, y_test, color='gray', s = 15)\n",
    "plot_test.plot(X_test, y_predicted, color='blue', linewidth =3)\n",
    "plot_test.title('trip_distance vs trip_duration (Test set)')\n",
    "plot_test.xlabel('trip_distance_mile')\n",
    "plot_test.ylabel('trip_duration_min')\n",
    "\n",
    "# Export viz\n",
    "plot_test.savefig(os.path.join(path, '04 Analysis','Visualizations', 'regression_test.png'))"
   ]
  },
  {
   "cell_type": "markdown",
   "id": "2f2c561f",
   "metadata": {},
   "source": [
    "### Task: Write your own interpretation of how well the line appears to fit the data in a markdown cell."
   ]
  },
  {
   "cell_type": "markdown",
   "id": "0d21da70",
   "metadata": {},
   "source": [
    "### Answer: \n",
    "A large amount of the data points are far off the regression line, especially the trips that take longer time or stretch longer in distance. So this doesn't seem to be a fitting prediction model. What's more, the data set doesn't contain many long-distance trips. This could be further contributing to the inaccuracy of the model."
   ]
  },
  {
   "cell_type": "code",
   "execution_count": 113,
   "id": "740ef924",
   "metadata": {},
   "outputs": [],
   "source": [
    "# Create objects that contain the model summary statistics.\n",
    "\n",
    "rmse = mean_squared_error(y_test, y_predicted) # This is the mean squared error\n",
    "r2 = r2_score(y_test, y_predicted) # This is the R2 score. "
   ]
  },
  {
   "cell_type": "markdown",
   "id": "e10da574",
   "metadata": {},
   "source": [
    "### Check the model performance statistics—MSE and R2 score."
   ]
  },
  {
   "cell_type": "code",
   "execution_count": 114,
   "id": "c651b0ba",
   "metadata": {},
   "outputs": [
    {
     "name": "stdout",
     "output_type": "stream",
     "text": [
      "Slope: [[1.69735762]]\n",
      "Mean squared error:  2737.7102838105175\n",
      "R2 score:  0.08922481043501418\n"
     ]
    }
   ],
   "source": [
    "# Print the model summary statistics. This is where you evaluate the performance of the model.\n",
    "\n",
    "print('Slope:' ,regression.coef_)\n",
    "print('Mean squared error: ', rmse)\n",
    "print('R2 score: ', r2)"
   ]
  },
  {
   "cell_type": "code",
   "execution_count": 115,
   "id": "84bdbb36",
   "metadata": {},
   "outputs": [
    {
     "data": {
      "text/plain": [
       "array([[34.00253571],\n",
       "       [17.19869529],\n",
       "       [19.4052602 ],\n",
       "       ...,\n",
       "       [21.6118251 ],\n",
       "       [17.02895953],\n",
       "       [17.02895953]])"
      ]
     },
     "execution_count": 115,
     "metadata": {},
     "output_type": "execute_result"
    }
   ],
   "source": [
    "y_predicted"
   ]
  },
  {
   "cell_type": "code",
   "execution_count": 116,
   "id": "9c04ba07",
   "metadata": {
    "scrolled": true
   },
   "outputs": [
    {
     "data": {
      "text/html": [
       "<div>\n",
       "<style scoped>\n",
       "    .dataframe tbody tr th:only-of-type {\n",
       "        vertical-align: middle;\n",
       "    }\n",
       "\n",
       "    .dataframe tbody tr th {\n",
       "        vertical-align: top;\n",
       "    }\n",
       "\n",
       "    .dataframe thead th {\n",
       "        text-align: right;\n",
       "    }\n",
       "</style>\n",
       "<table border=\"1\" class=\"dataframe\">\n",
       "  <thead>\n",
       "    <tr style=\"text-align: right;\">\n",
       "      <th></th>\n",
       "      <th>Actual</th>\n",
       "      <th>Predicted</th>\n",
       "    </tr>\n",
       "  </thead>\n",
       "  <tbody>\n",
       "    <tr>\n",
       "      <th>0</th>\n",
       "      <td>36.9</td>\n",
       "      <td>34.002536</td>\n",
       "    </tr>\n",
       "    <tr>\n",
       "      <th>1</th>\n",
       "      <td>9.0</td>\n",
       "      <td>17.198695</td>\n",
       "    </tr>\n",
       "    <tr>\n",
       "      <th>2</th>\n",
       "      <td>9.8</td>\n",
       "      <td>19.405260</td>\n",
       "    </tr>\n",
       "    <tr>\n",
       "      <th>3</th>\n",
       "      <td>6.0</td>\n",
       "      <td>25.176276</td>\n",
       "    </tr>\n",
       "    <tr>\n",
       "      <th>4</th>\n",
       "      <td>3.0</td>\n",
       "      <td>16.689488</td>\n",
       "    </tr>\n",
       "    <tr>\n",
       "      <th>5</th>\n",
       "      <td>17.8</td>\n",
       "      <td>21.781561</td>\n",
       "    </tr>\n",
       "    <tr>\n",
       "      <th>6</th>\n",
       "      <td>5.2</td>\n",
       "      <td>16.859224</td>\n",
       "    </tr>\n",
       "    <tr>\n",
       "      <th>7</th>\n",
       "      <td>38.3</td>\n",
       "      <td>26.534162</td>\n",
       "    </tr>\n",
       "    <tr>\n",
       "      <th>8</th>\n",
       "      <td>34.8</td>\n",
       "      <td>25.346012</td>\n",
       "    </tr>\n",
       "    <tr>\n",
       "      <th>9</th>\n",
       "      <td>8.9</td>\n",
       "      <td>17.368431</td>\n",
       "    </tr>\n",
       "    <tr>\n",
       "      <th>10</th>\n",
       "      <td>14.3</td>\n",
       "      <td>16.689488</td>\n",
       "    </tr>\n",
       "    <tr>\n",
       "      <th>11</th>\n",
       "      <td>10.2</td>\n",
       "      <td>17.198695</td>\n",
       "    </tr>\n",
       "    <tr>\n",
       "      <th>12</th>\n",
       "      <td>3.0</td>\n",
       "      <td>16.689488</td>\n",
       "    </tr>\n",
       "    <tr>\n",
       "      <th>13</th>\n",
       "      <td>14.3</td>\n",
       "      <td>16.859224</td>\n",
       "    </tr>\n",
       "    <tr>\n",
       "      <th>14</th>\n",
       "      <td>12.2</td>\n",
       "      <td>17.198695</td>\n",
       "    </tr>\n",
       "    <tr>\n",
       "      <th>15</th>\n",
       "      <td>3.0</td>\n",
       "      <td>16.689488</td>\n",
       "    </tr>\n",
       "    <tr>\n",
       "      <th>16</th>\n",
       "      <td>26.1</td>\n",
       "      <td>17.877638</td>\n",
       "    </tr>\n",
       "    <tr>\n",
       "      <th>17</th>\n",
       "      <td>35.0</td>\n",
       "      <td>18.556581</td>\n",
       "    </tr>\n",
       "    <tr>\n",
       "      <th>18</th>\n",
       "      <td>11.9</td>\n",
       "      <td>17.707903</td>\n",
       "    </tr>\n",
       "    <tr>\n",
       "      <th>19</th>\n",
       "      <td>6.2</td>\n",
       "      <td>17.198695</td>\n",
       "    </tr>\n",
       "    <tr>\n",
       "      <th>20</th>\n",
       "      <td>8.7</td>\n",
       "      <td>16.859224</td>\n",
       "    </tr>\n",
       "    <tr>\n",
       "      <th>21</th>\n",
       "      <td>22.4</td>\n",
       "      <td>24.667069</td>\n",
       "    </tr>\n",
       "    <tr>\n",
       "      <th>22</th>\n",
       "      <td>7.3</td>\n",
       "      <td>16.689488</td>\n",
       "    </tr>\n",
       "    <tr>\n",
       "      <th>23</th>\n",
       "      <td>9.5</td>\n",
       "      <td>20.763146</td>\n",
       "    </tr>\n",
       "    <tr>\n",
       "      <th>24</th>\n",
       "      <td>13.3</td>\n",
       "      <td>17.368431</td>\n",
       "    </tr>\n",
       "    <tr>\n",
       "      <th>25</th>\n",
       "      <td>8.2</td>\n",
       "      <td>17.198695</td>\n",
       "    </tr>\n",
       "    <tr>\n",
       "      <th>26</th>\n",
       "      <td>27.4</td>\n",
       "      <td>22.969711</td>\n",
       "    </tr>\n",
       "    <tr>\n",
       "      <th>27</th>\n",
       "      <td>35.1</td>\n",
       "      <td>19.574996</td>\n",
       "    </tr>\n",
       "    <tr>\n",
       "      <th>28</th>\n",
       "      <td>18.6</td>\n",
       "      <td>36.209101</td>\n",
       "    </tr>\n",
       "    <tr>\n",
       "      <th>29</th>\n",
       "      <td>4.1</td>\n",
       "      <td>16.689488</td>\n",
       "    </tr>\n",
       "  </tbody>\n",
       "</table>\n",
       "</div>"
      ],
      "text/plain": [
       "    Actual  Predicted\n",
       "0     36.9  34.002536\n",
       "1      9.0  17.198695\n",
       "2      9.8  19.405260\n",
       "3      6.0  25.176276\n",
       "4      3.0  16.689488\n",
       "5     17.8  21.781561\n",
       "6      5.2  16.859224\n",
       "7     38.3  26.534162\n",
       "8     34.8  25.346012\n",
       "9      8.9  17.368431\n",
       "10    14.3  16.689488\n",
       "11    10.2  17.198695\n",
       "12     3.0  16.689488\n",
       "13    14.3  16.859224\n",
       "14    12.2  17.198695\n",
       "15     3.0  16.689488\n",
       "16    26.1  17.877638\n",
       "17    35.0  18.556581\n",
       "18    11.9  17.707903\n",
       "19     6.2  17.198695\n",
       "20     8.7  16.859224\n",
       "21    22.4  24.667069\n",
       "22     7.3  16.689488\n",
       "23     9.5  20.763146\n",
       "24    13.3  17.368431\n",
       "25     8.2  17.198695\n",
       "26    27.4  22.969711\n",
       "27    35.1  19.574996\n",
       "28    18.6  36.209101\n",
       "29     4.1  16.689488"
      ]
     },
     "execution_count": 116,
     "metadata": {},
     "output_type": "execute_result"
    }
   ],
   "source": [
    "# Create a dataframe comparing the actual and predicted values of y.\n",
    "\n",
    "data = pd.DataFrame({'Actual': y_test.flatten(), 'Predicted': y_predicted.flatten()})\n",
    "data.head(30)"
   ]
  },
  {
   "cell_type": "markdown",
   "id": "3971c977",
   "metadata": {},
   "source": [
    "### Task: Include your thoughts on how well the model performed on the test set in a markdown cell. Include any reflections you have on the impact of possible data bias."
   ]
  },
  {
   "cell_type": "markdown",
   "id": "2f332dfe",
   "metadata": {},
   "source": [
    "* The MSE is at around 2738, which indicates that the regression line isn’t an accurate representation of the data and can’t accurately predict the influence of trip distance on the trip duration.\n",
    "\n",
    "* The R2 score is around 0.09, which is low. This tells us that the model doesn't explain the variance in the data well. It is a poor fit.\n",
    "\n",
    "* I see there’s quite the difference between the actual and predicted y values. So it's safe to say that the model isn’t doing a great job of explaining the relationship between the “trip distance” and “trip duration” variables.\n",
    "\n",
    "* The relationship doesn’t follow a single, straight regression line. I can also rule out my hypothesis, “The longer the trip distance is, the longer the trip lasts in time.” To accurately represent the data, we need to form new hypotheses to find the best fitting model. "
   ]
  },
  {
   "cell_type": "code",
   "execution_count": null,
   "id": "062db6d0",
   "metadata": {},
   "outputs": [],
   "source": []
  }
 ],
 "metadata": {
  "kernelspec": {
   "display_name": "Python 3 (ipykernel)",
   "language": "python",
   "name": "python3"
  },
  "language_info": {
   "codemirror_mode": {
    "name": "ipython",
    "version": 3
   },
   "file_extension": ".py",
   "mimetype": "text/x-python",
   "name": "python",
   "nbconvert_exporter": "python",
   "pygments_lexer": "ipython3",
   "version": "3.11.4"
  }
 },
 "nbformat": 4,
 "nbformat_minor": 5
}
